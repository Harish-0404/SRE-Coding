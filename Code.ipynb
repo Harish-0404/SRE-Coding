{
  "nbformat": 4,
  "nbformat_minor": 0,
  "metadata": {
    "colab": {
      "provenance": []
    },
    "kernelspec": {
      "name": "python3",
      "display_name": "Python 3"
    },
    "language_info": {
      "name": "python"
    }
  },
  "cells": [
    {
      "cell_type": "code",
      "source": [
        "import time\n",
        "import requests\n",
        "import yaml\n",
        "import logging\n",
        "from collections import defaultdict\n",
        "\n",
        "# Initialize logging\n",
        "logging.basicConfig(level=logging.INFO, format='%(asctime)s - %(levelname)s - %(message)s')\n",
        "\n",
        "# Function to parse the YAML configuration file\n",
        "def parse_yaml(file_path):\n",
        "    with open(file_path, 'r') as file:\n",
        "        return yaml.safe_load(file)\n",
        "\n",
        "# Function to perform a health check on the endpoint\n",
        "def health_check(endpoint):\n",
        "    try:\n",
        "        if endpoint.get('method', 'GET') == 'GET':\n",
        "            response = requests.get(endpoint['url'], headers=endpoint.get('headers', {}), timeout=5)\n",
        "        else:  # POST method\n",
        "            response = requests.post(endpoint['url'], headers=endpoint.get('headers', {}), json=endpoint.get('body', {}), timeout=5)\n",
        "\n",
        "        latency = response.elapsed.total_seconds()\n",
        "        return response.status_code in range(200, 300) and latency < 0.5, latency  # Return UP status and latency\n",
        "    except requests.RequestException as e:\n",
        "        return False, None  # Endpoint is DOWN\n",
        "\n",
        "# Main function to run the health checks\n",
        "def run_health_checks(file_path):\n",
        "    endpoints = parse_yaml(file_path)\n",
        "    results = defaultdict(lambda: {'up': 0, 'total': 0})\n",
        "\n",
        "    try:\n",
        "        while True:\n",
        "            for endpoint in endpoints:\n",
        "                is_up, latency = health_check(endpoint)\n",
        "                domain = endpoint['url'].split('//')[-1].split('/')[0]\n",
        "                results[domain]['total'] += 1\n",
        "                if is_up:\n",
        "                    results[domain]['up'] += 1\n",
        "\n",
        "                status = \"UP\" if is_up else \"DOWN\"\n",
        "                log_message = f\"{endpoint['name']} is {status} with latency {latency if latency else 'N/A'}\"\n",
        "                logging.info(log_message)\n",
        "                print(log_message)  # Print the status\n",
        "\n",
        "            # Log and print the availability percentage\n",
        "            for domain, result in results.items():\n",
        "                availability_percentage = (result['up'] / result['total']) * 100\n",
        "                availability_message = f\"{domain} has {availability_percentage:.2f}% availability percentage\"\n",
        "                logging.info(availability_message)\n",
        "                print(availability_message)  # Print the availability percentage\n",
        "\n",
        "            time.sleep(15)\n",
        "\n",
        "    except KeyboardInterrupt:\n",
        "        exit_message = \"Program exited by user\"\n",
        "        logging.info(exit_message)\n",
        "        print(exit_message)  # Print the exit message\n",
        "\n",
        "if __name__ == \"__main__\":\n",
        "   config_file_path = '/content/sample.yaml'\n",
        "\n",
        "   run_health_checks(config_file_path)\n"
      ],
      "metadata": {
        "id": "koGLylXJRcq5",
        "colab": {
          "base_uri": "https://localhost:8080/"
        },
        "outputId": "b22c2298-ecdf-4d30-c85c-cc23d36fcaa1"
      },
      "execution_count": 1,
      "outputs": [
        {
          "output_type": "stream",
          "name": "stdout",
          "text": [
            "fetch.com index page is UP with latency 0.277085\n",
            "fetch.com careers page is UP with latency 0.333264\n",
            "fetch.com some post endpoint is DOWN with latency 0.111657\n",
            "www.fetchrewards.com index page is UP with latency 0.109896\n",
            "fetch.com has 66.67% availability percentage\n",
            "www.fetchrewards.com has 100.00% availability percentage\n",
            "fetch.com index page is UP with latency 0.175324\n",
            "fetch.com careers page is UP with latency 0.177389\n",
            "fetch.com some post endpoint is DOWN with latency 0.166142\n",
            "www.fetchrewards.com index page is UP with latency 0.162741\n",
            "fetch.com has 66.67% availability percentage\n",
            "www.fetchrewards.com has 100.00% availability percentage\n",
            "fetch.com index page is UP with latency 0.155398\n",
            "fetch.com careers page is UP with latency 0.110862\n",
            "fetch.com some post endpoint is DOWN with latency 0.110471\n",
            "www.fetchrewards.com index page is UP with latency 0.113722\n",
            "fetch.com has 66.67% availability percentage\n",
            "www.fetchrewards.com has 100.00% availability percentage\n",
            "fetch.com index page is UP with latency 0.110369\n",
            "fetch.com careers page is UP with latency 0.111504\n",
            "fetch.com some post endpoint is DOWN with latency 0.112411\n",
            "www.fetchrewards.com index page is UP with latency 0.106586\n",
            "fetch.com has 66.67% availability percentage\n",
            "www.fetchrewards.com has 100.00% availability percentage\n",
            "Program exited by user\n"
          ]
        }
      ]
    }
  ]
}